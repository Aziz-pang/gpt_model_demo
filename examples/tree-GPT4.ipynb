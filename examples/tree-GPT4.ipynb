{
 "cells": [
  {
   "cell_type": "code",
   "execution_count": null,
   "id": "150d9741",
   "metadata": {},
   "outputs": [],
   "source": [
    "import logging\n",
    "import sys\n",
    "\n",
    "from llama_index import GPTKeywordTableIndex, WikipediaReader,GPTListIndex,GPTVectorStoreIndex\n",
    "from llama_index.indices.postprocessor import KeywordNodePostprocessor\n",
    "\n",
    "logging.basicConfig(stream=sys.stdout, level=logging.INFO)\n",
    "logging.getLogger().addHandler(logging.StreamHandler(stream=sys.stdout))\n",
    "\n",
    "\n",
    "# My OpenAI Key\n",
    "import os\n",
    "os.environ['OPENAI_API_KEY'] = os.getenv('API_CHAT_GPT')\n",
    "\n",
    "x = GPTVectorStoreIndex.load_from_disk(wiki_docs)\n"
   ]
  },
  {
   "cell_type": "code",
   "execution_count": null,
   "id": "f9aa3bf1",
   "metadata": {},
   "outputs": [],
   "source": [
    "wiki_docs = WikipediaReader().load_data(pages=['Covid-19'])"
   ]
  },
  {
   "cell_type": "code",
   "execution_count": null,
   "id": "be63825f",
   "metadata": {},
   "outputs": [],
   "source": [
    "index = GPTKeywordTableIndex.from_documents(wiki_docs)"
   ]
  },
  {
   "cell_type": "code",
   "execution_count": null,
   "id": "59b1e90e",
   "metadata": {},
   "outputs": [],
   "source": [
    "# GPT doesn't find the corresponding evidence in the leaf node, but still gives the correct answer\n",
    "# set Logging to DEBUG for more detailed outputs\n",
    "query_engine = index.as_query_engine()\n",
    "query_engine.query(\"Which country included tocilizumab in treatment for covid-19?\")"
   ]
  },
  {
   "attachments": {},
   "cell_type": "markdown",
   "id": "c84a884d",
   "metadata": {},
   "source": [
    "## reader"
   ]
  },
  {
   "cell_type": "code",
   "execution_count": null,
   "id": "b97457ef",
   "metadata": {},
   "outputs": [],
   "source": [
    "wiki_docs = WikipediaReader().load_data(pages=['Covid-19'])\n",
    "index = GPTListIndex.from_documents(wiki_docs)"
   ]
  },
  {
   "cell_type": "code",
   "execution_count": null,
   "id": "b42b2baa",
   "metadata": {},
   "outputs": [],
   "source": [
    "query_engine = index.as_query_engine(\n",
    "    node_postprocessors=[\n",
    "        KeywordNodePostprocessor(required_keywords=['tocilizumab'])\n",
    "    ]\n",
    ")\n",
    "response = query_engine.query(\n",
    "    \"Which country included tocilizumab in treatment for covid-19?\", \n",
    ")"
   ]
  },
  {
   "cell_type": "code",
   "execution_count": null,
   "id": "42d2637b",
   "metadata": {},
   "outputs": [],
   "source": [
    "\n",
    "display(response.strip())"
   ]
  },
  {
   "cell_type": "code",
   "execution_count": null,
   "id": "bfee391b",
   "metadata": {},
   "outputs": [],
   "source": [
    "# set Logging to DEBUG for more detailed outputs\n",
    "# without keyword lookup\n",
    "query_engine = index.as_query_engine()\n",
    "response = query_engine.query(\n",
    "    \"Which country included tocilizumab in treatment for covid-19?\"\n",
    ")"
   ]
  }
 ],
 "metadata": {
  "kernelspec": {
   "display_name": "Python 3 (ipykernel)",
   "language": "python",
   "name": "python3"
  },
  "language_info": {
   "codemirror_mode": {
    "name": "ipython",
    "version": 3
   },
   "file_extension": ".py",
   "mimetype": "text/x-python",
   "name": "python",
   "nbconvert_exporter": "python",
   "pygments_lexer": "ipython3",
   "version": "3.11.3"
  }
 },
 "nbformat": 4,
 "nbformat_minor": 5
}
