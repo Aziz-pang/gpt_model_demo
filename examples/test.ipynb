{
 "cells": [
  {
   "cell_type": "code",
   "execution_count": 24,
   "metadata": {},
   "outputs": [
    {
     "ename": "AttributeError",
     "evalue": "'str' object has no attribute 'as_query_engine'",
     "output_type": "error",
     "traceback": [
      "\u001b[1;31m---------------------------------------------------------------------------\u001b[0m",
      "\u001b[1;31mAttributeError\u001b[0m                            Traceback (most recent call last)",
      "Cell \u001b[1;32mIn[24], line 4\u001b[0m\n\u001b[0;32m      1\u001b[0m \u001b[39mfrom\u001b[39;00m \u001b[39mllama_index\u001b[39;00m \u001b[39mimport\u001b[39;00m GPTVectorStoreIndex\n\u001b[0;32m      3\u001b[0m \u001b[39m# rebuild storage context\u001b[39;00m\n\u001b[1;32m----> 4\u001b[0m x \u001b[39m=\u001b[39m GPTVectorStoreIndex\u001b[39m.\u001b[39;49mas_chat_engine(\u001b[39m'\u001b[39;49m\u001b[39m../testData/index.json\u001b[39;49m\u001b[39m'\u001b[39;49m)\n",
      "File \u001b[1;32md:\\.data\\Scoop\\apps\\python\\current\\Lib\\site-packages\\llama_index\\indices\\base.py:268\u001b[0m, in \u001b[0;36mBaseGPTIndex.as_chat_engine\u001b[1;34m(self, chat_mode, **kwargs)\u001b[0m\n\u001b[0;32m    264\u001b[0m \u001b[39mif\u001b[39;00m chat_mode \u001b[39m==\u001b[39m ChatMode\u001b[39m.\u001b[39mCONDENSE_QUESTION:\n\u001b[0;32m    265\u001b[0m     \u001b[39m# NOTE: lazy import\u001b[39;00m\n\u001b[0;32m    266\u001b[0m     \u001b[39mfrom\u001b[39;00m \u001b[39mllama_index\u001b[39;00m\u001b[39m.\u001b[39;00m\u001b[39mchat_engine\u001b[39;00m \u001b[39mimport\u001b[39;00m CondenseQuestionChatEngine\n\u001b[1;32m--> 268\u001b[0m     query_engine \u001b[39m=\u001b[39m \u001b[39mself\u001b[39;49m\u001b[39m.\u001b[39;49mas_query_engine(\u001b[39m*\u001b[39m\u001b[39m*\u001b[39mkwargs)\n\u001b[0;32m    269\u001b[0m     \u001b[39mreturn\u001b[39;00m CondenseQuestionChatEngine\u001b[39m.\u001b[39mfrom_defaults(\n\u001b[0;32m    270\u001b[0m         query_engine\u001b[39m=\u001b[39mquery_engine, \u001b[39m*\u001b[39m\u001b[39m*\u001b[39mkwargs\n\u001b[0;32m    271\u001b[0m     )\n\u001b[0;32m    272\u001b[0m \u001b[39melif\u001b[39;00m chat_mode \u001b[39m==\u001b[39m ChatMode\u001b[39m.\u001b[39mREACT:\n\u001b[0;32m    273\u001b[0m     \u001b[39m# NOTE: lazy import\u001b[39;00m\n",
      "\u001b[1;31mAttributeError\u001b[0m: 'str' object has no attribute 'as_query_engine'"
     ]
    }
   ],
   "source": [
    "from llama_index import GPTVectorStoreIndex\n",
    "\n",
    "# rebuild storage context\n",
    "x = GPTVectorStoreIndex.as_chat_engine('../testData/index.json')"
   ]
  }
 ],
 "metadata": {
  "kernelspec": {
   "display_name": "Python 3",
   "language": "python",
   "name": "python3"
  },
  "language_info": {
   "codemirror_mode": {
    "name": "ipython",
    "version": 3
   },
   "file_extension": ".py",
   "mimetype": "text/x-python",
   "name": "python",
   "nbconvert_exporter": "python",
   "pygments_lexer": "ipython3",
   "version": "3.11.3"
  },
  "orig_nbformat": 4
 },
 "nbformat": 4,
 "nbformat_minor": 2
}
